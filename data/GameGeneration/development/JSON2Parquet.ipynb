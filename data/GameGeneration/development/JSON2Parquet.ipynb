{
 "cells": [
  {
   "cell_type": "code",
   "execution_count": 1,
   "metadata": {},
   "outputs": [],
   "source": [
    "import os\n",
    "import json\n",
    "import re\n",
    "\n",
    "regx_one = re.compile('.*?(\\\\d+)', re.IGNORECASE|re.DOTALL)\n",
    "regx_two = re.compile('.*?(\\\\d+).*?(\\\\d+)', re.IGNORECASE|re.DOTALL)"
   ]
  },
  {
   "cell_type": "code",
   "execution_count": 2,
   "metadata": {},
   "outputs": [],
   "source": [
    "def get_path_data(txt: str) -> str:\n",
    "    m = regx_two.search(txt)\n",
    "    if m:\n",
    "        int1=m.group(1)\n",
    "        int2=m.group(2)\n",
    "        return int1, int2"
   ]
  },
  {
   "cell_type": "code",
   "execution_count": 3,
   "metadata": {},
   "outputs": [],
   "source": [
    "def read_json(file_name: str):\n",
    "    with open(file_name) as json_file:\n",
    "        data = json.load(json_file)\n",
    "    \n",
    "    return data"
   ]
  },
  {
   "cell_type": "code",
   "execution_count": 4,
   "metadata": {},
   "outputs": [],
   "source": [
    "if \"requirements.txt\" not in os.listdir():\n",
    "    os.chdir(\"../\")"
   ]
  },
  {
   "cell_type": "code",
   "execution_count": 5,
   "metadata": {},
   "outputs": [],
   "source": [
    "root = \"./resources\"\n",
    "\n",
    "score_cards, summaries, overviews = [], [], []\n",
    "\n",
    "for dirname, dirs, files in os.walk(root):\n",
    "    if \"scorecards\" in dirname:\n",
    "        score_cards.append(dirname)\n",
    "    \n",
    "    if \"summary.json\" in files:\n",
    "        summaries.append(\"{}/{}\".format(dirname, \"summary.json\"))\n",
    "    \n",
    "    if \"overview.json\" in files:\n",
    "        overviews.append(\"{}/{}\".format(dirname, \"overview.json\"))"
   ]
  },
  {
   "cell_type": "code",
   "execution_count": 9,
   "metadata": {},
   "outputs": [
    {
     "name": "stdout",
     "output_type": "stream",
     "text": [
      "Number of Summary files to process: 175\n",
      "Number of Players: 22363\n"
     ]
    }
   ],
   "source": [
    "print(\"Number of Summary files to process: {}\".format(len(summaries)))\n",
    "player_storage = []\n",
    "\n",
    "for each_summary_file in summaries:\n",
    "    summary_1 = read_json(each_summary_file)\n",
    "    for each_player in summary_1[\"leaderboard\"][\"players\"]:\n",
    "        bio = each_player['player_bio']\n",
    "        bio[\"player_id\"] = each_player[\"player_id\"]\n",
    "        player_storage.append(bio)\n",
    "        \n",
    "print(\"Number of Players: {}\".format(len(player_storage)))"
   ]
  },
  {
   "cell_type": "code",
   "execution_count": 7,
   "metadata": {},
   "outputs": [
    {
     "name": "stdout",
     "output_type": "stream",
     "text": [
      "Cards handled: 93\n",
      "Cards handled: 192\n",
      "Cards handled: 287\n",
      "Cards handled: 383\n",
      "Cards handled: 503\n",
      "Cards handled: 623\n",
      "Cards handled: 743\n",
      "Cards handled: 863\n",
      "Cards handled: 881\n",
      "Cards handled: 899\n",
      "Cards handled: 917\n",
      "Cards handled: 1037\n",
      "Cards handled: 1157\n",
      "Cards handled: 1277\n",
      "Cards handled: 1397\n",
      "Cards handled: 1472\n",
      "Cards handled: 1552\n",
      "Cards handled: 1627\n",
      "Cards handled: 1688\n",
      "Cards handled: 1820\n",
      "Cards handled: 1952\n",
      "Cards handled: 2084\n",
      "Cards handled: 2216\n",
      "Cards handled: 2360\n",
      "Cards handled: 2504\n",
      "Cards handled: 2660\n",
      "Cards handled: 2816\n",
      "Cards handled: 2972\n",
      "Cards handled: 3128\n",
      "Cards handled: 3284\n",
      "Cards handled: 3440\n",
      "Cards handled: 3571\n",
      "Cards handled: 3702\n",
      "Cards handled: 3834\n",
      "Cards handled: 3966\n",
      "Cards handled: 4063\n",
      "Cards handled: 4160\n",
      "Cards handled: 4253\n",
      "Cards handled: 4342\n",
      "Cards handled: 4498\n",
      "Cards handled: 4654\n",
      "Cards handled: 4810\n",
      "Cards handled: 4966\n",
      "Cards handled: 5110\n",
      "Cards handled: 5254\n",
      "Cards handled: 5398\n",
      "Cards handled: 5530\n",
      "Cards handled: 5661\n",
      "Cards handled: 5793\n",
      "Cards handled: 5937\n",
      "Cards handled: 6081\n",
      "Cards handled: 6225\n",
      "Cards handled: 6369\n",
      "Cards handled: 6525\n",
      "Cards handled: 6681\n",
      "Cards handled: 6837\n",
      "Cards handled: 6981\n",
      "Cards handled: 7125\n",
      "Cards handled: 7269\n",
      "Cards handled: 7389\n",
      "Cards handled: 7509\n",
      "Cards handled: 7629\n",
      "Cards handled: 7749\n",
      "Cards handled: 7905\n",
      "Cards handled: 8061\n",
      "Cards handled: 8217\n",
      "Cards handled: 8373\n",
      "Cards handled: 8517\n",
      "Cards handled: 8661\n",
      "Cards handled: 8805\n",
      "Cards handled: 8864\n",
      "Cards handled: 8993\n",
      "Cards handled: 9124\n",
      "Cards handled: 9253\n",
      "Cards handled: 9409\n",
      "Cards handled: 9565\n",
      "Cards handled: 9720\n",
      "Cards handled: 9875\n",
      "Cards handled: 9935\n",
      "Cards handled: 10079\n",
      "Cards handled: 10223\n",
      "Cards handled: 10366\n",
      "Cards handled: 10510\n",
      "Cards handled: 10632\n",
      "Cards handled: 10752\n",
      "Cards handled: 10872\n",
      "Cards handled: 10992\n",
      "Cards handled: 11148\n",
      "Cards handled: 11304\n",
      "Cards handled: 11464\n",
      "Cards handled: 11620\n",
      "Cards handled: 11764\n",
      "Cards handled: 11907\n",
      "Cards handled: 12051\n",
      "Cards handled: 12193\n",
      "Cards handled: 12337\n",
      "Cards handled: 12481\n",
      "Cards handled: 12626\n",
      "Cards handled: 12770\n",
      "Cards handled: 12804\n",
      "Cards handled: 12836\n",
      "Cards handled: 12869\n",
      "Cards handled: 13001\n",
      "Cards handled: 13133\n",
      "Cards handled: 13266\n",
      "Cards handled: 13398\n",
      "Cards handled: 13467\n",
      "Cards handled: 13541\n",
      "Cards handled: 13618\n",
      "Cards handled: 13687\n",
      "Cards handled: 13756\n",
      "Cards handled: 13826\n",
      "Cards handled: 13895\n",
      "Cards handled: 14039\n",
      "Cards handled: 14183\n",
      "Cards handled: 14327\n",
      "Cards handled: 14471\n",
      "Cards handled: 14626\n",
      "Cards handled: 14780\n",
      "Cards handled: 14935\n",
      "Cards handled: 15089\n",
      "Cards handled: 15245\n",
      "Cards handled: 15401\n",
      "Cards handled: 15557\n",
      "Cards handled: 15713\n",
      "Cards handled: 15869\n",
      "Cards handled: 16025\n",
      "Cards handled: 16181\n",
      "Cards handled: 16261\n",
      "Cards handled: 16339\n",
      "Cards handled: 16417\n",
      "Cards handled: 16536\n",
      "Cards handled: 16657\n",
      "Cards handled: 16778\n",
      "Cards handled: 16899\n",
      "Cards handled: 17031\n",
      "Cards handled: 17186\n",
      "Cards handled: 17340\n",
      "Cards handled: 17472\n",
      "Cards handled: 17604\n",
      "Cards handled: 17736\n",
      "Cards handled: 17868\n",
      "Cards handled: 18024\n",
      "Cards handled: 18180\n",
      "Cards handled: 18336\n",
      "Cards handled: 18492\n",
      "Cards handled: 18570\n",
      "Cards handled: 18648\n",
      "Cards handled: 18726\n",
      "Cards handled: 18882\n",
      "Cards handled: 19038\n",
      "Cards handled: 19194\n",
      "Cards handled: 19350\n",
      "Cards handled: 19506\n",
      "Cards handled: 19662\n",
      "Cards handled: 19818\n",
      "Cards handled: 19974\n",
      "Cards handled: 20130\n",
      "Cards handled: 20286\n",
      "Cards handled: 20442\n",
      "Cards handled: 20598\n",
      "Cards handled: 20730\n",
      "Cards handled: 20862\n",
      "Cards handled: 20994\n",
      "Cards handled: 21150\n",
      "Cards handled: 21306\n",
      "Cards handled: 21462\n",
      "Cards handled: 21618\n",
      "Cards handled: 21774\n",
      "Cards handled: 21930\n",
      "Cards handled: 22086\n",
      "Cards handled: 22242\n",
      "Cards handled: 22271\n",
      "Cards handled: 22301\n",
      "Cards handled: 22331\n",
      "22331 cards processed totalling 4554844 shots\n"
     ]
    }
   ],
   "source": [
    "shot_storage = []\n",
    "card_counter = 0\n",
    "\n",
    "for each_score_card in score_cards:\n",
    "    for each_card in os.listdir(each_score_card):\n",
    "        card_counter += 1\n",
    "        \n",
    "        score_cards_1 = read_json(\"{}/{}\".format(each_score_card, each_card))\n",
    "        (tournament_id, year), player_id = get_path_data(each_score_card), int(score_cards_1[\"p\"][\"id\"])\n",
    "        for rnd_inx, round_ in enumerate(score_cards_1[\"p\"][\"rnds\"]):\n",
    "            for hole_inx, hole_ in enumerate(round_[\"holes\"]):\n",
    "                for each_shot in hole_[\"shots\"]:\n",
    "                    each_shot[\"tournament_id\"] = tournament_id\n",
    "                    each_shot[\"year\"] = year\n",
    "                    each_shot[\"player_id\"] = player_id\n",
    "                    each_shot[\"round\"] = rnd_inx + 1\n",
    "                    each_shot[\"hole\"] = hole_inx + 1\n",
    "                    shot_storage.append(each_shot)\n",
    "    \n",
    "    print(\"Cards handled: {}\".format(card_counter))\n",
    "                    \n",
    "print(\"{} cards processed totalling {} shots\".format(card_counter, len(shot_storage)))"
   ]
  },
  {
   "cell_type": "code",
   "execution_count": 20,
   "metadata": {},
   "outputs": [],
   "source": [
    "import pandas as pd"
   ]
  },
  {
   "cell_type": "code",
   "execution_count": 31,
   "metadata": {},
   "outputs": [],
   "source": [
    "player_storage = pd.DataFrame(player_storage)"
   ]
  },
  {
   "cell_type": "code",
   "execution_count": 38,
   "metadata": {},
   "outputs": [],
   "source": [
    "player_storage.to_parquet('player_storage.parquet', engine='fastparquet', \n",
    "                          compression=\"gzip\", index=False)"
   ]
  },
  {
   "cell_type": "code",
   "execution_count": 33,
   "metadata": {},
   "outputs": [
    {
     "data": {
      "text/plain": [
       "'/Users/dandixey/Scala/kratos/StrokesGained/data/GameGeneration'"
      ]
     },
     "execution_count": 33,
     "metadata": {},
     "output_type": "execute_result"
    }
   ],
   "source": [
    "os.getcwd()"
   ]
  },
  {
   "cell_type": "code",
   "execution_count": 34,
   "metadata": {},
   "outputs": [],
   "source": [
    "shot_storage = pd.DataFrame(shot_storage)"
   ]
  },
  {
   "cell_type": "code",
   "execution_count": 39,
   "metadata": {},
   "outputs": [],
   "source": [
    "shot_storage.to_parquet('shot_storage.parquet', engine='fastparquet', \n",
    "                        compression='gzip', index=False)"
   ]
  },
  {
   "cell_type": "code",
   "execution_count": 44,
   "metadata": {},
   "outputs": [
    {
     "data": {
      "text/plain": [
       "Index(['n', 'pid', 'time', 'putt', 't', 'prv', 'tee', 'cup', 'from', 'to',\n",
       "       'asc', 'dist', 'left', 'x', 'y', 'z', 'club', 'con', 'shotText',\n",
       "       'tournament_id', 'year', 'player_id', 'round', 'hole'],\n",
       "      dtype='object')"
      ]
     },
     "execution_count": 44,
     "metadata": {},
     "output_type": "execute_result"
    }
   ],
   "source": [
    "shot_storage.columnsumns"
   ]
  },
  {
   "cell_type": "code",
   "execution_count": 60,
   "metadata": {},
   "outputs": [
    {
     "data": {
      "text/html": [
       "<div>\n",
       "<style scoped>\n",
       "    .dataframe tbody tr th:only-of-type {\n",
       "        vertical-align: middle;\n",
       "    }\n",
       "\n",
       "    .dataframe tbody tr th {\n",
       "        vertical-align: top;\n",
       "    }\n",
       "\n",
       "    .dataframe thead th {\n",
       "        text-align: right;\n",
       "    }\n",
       "</style>\n",
       "<table border=\"1\" class=\"dataframe\">\n",
       "  <thead>\n",
       "    <tr style=\"text-align: right;\">\n",
       "      <th></th>\n",
       "      <th>n</th>\n",
       "      <th>x</th>\n",
       "      <th>y</th>\n",
       "      <th>z</th>\n",
       "      <th>club</th>\n",
       "      <th>shotText</th>\n",
       "    </tr>\n",
       "  </thead>\n",
       "  <tbody>\n",
       "    <tr>\n",
       "      <td>0</td>\n",
       "      <td>1</td>\n",
       "      <td>8595.358</td>\n",
       "      <td>7456.476</td>\n",
       "      <td>106.198</td>\n",
       "      <td>CFW</td>\n",
       "      <td>Shot 1 232 yds to right fairway, 125 yds to hole</td>\n",
       "    </tr>\n",
       "    <tr>\n",
       "      <td>1</td>\n",
       "      <td>2</td>\n",
       "      <td>8332.529</td>\n",
       "      <td>7213.823</td>\n",
       "      <td>109.089</td>\n",
       "      <td>CUK</td>\n",
       "      <td>Shot 2 119 yds to green, 19 ft to hole</td>\n",
       "    </tr>\n",
       "    <tr>\n",
       "      <td>2</td>\n",
       "      <td>3</td>\n",
       "      <td>8322.630</td>\n",
       "      <td>7195.538</td>\n",
       "      <td>109.566</td>\n",
       "      <td>CUK</td>\n",
       "      <td>Shot 3 putt 20 ft 10 in., 23 in. to hole</td>\n",
       "    </tr>\n",
       "    <tr>\n",
       "      <td>3</td>\n",
       "      <td>4</td>\n",
       "      <td>0</td>\n",
       "      <td>0</td>\n",
       "      <td>0</td>\n",
       "      <td>CUK</td>\n",
       "      <td>Shot 4 in the hole</td>\n",
       "    </tr>\n",
       "  </tbody>\n",
       "</table>\n",
       "</div>"
      ],
      "text/plain": [
       "   n         x         y        z club  \\\n",
       "0  1  8595.358  7456.476  106.198  CFW   \n",
       "1  2  8332.529  7213.823  109.089  CUK   \n",
       "2  3  8322.630  7195.538  109.566  CUK   \n",
       "3  4         0         0        0  CUK   \n",
       "\n",
       "                                           shotText  \n",
       "0  Shot 1 232 yds to right fairway, 125 yds to hole  \n",
       "1            Shot 2 119 yds to green, 19 ft to hole  \n",
       "2          Shot 3 putt 20 ft 10 in., 23 in. to hole  \n",
       "3                                Shot 4 in the hole  "
      ]
     },
     "execution_count": 60,
     "metadata": {},
     "output_type": "execute_result"
    }
   ],
   "source": [
    "shot_storage[(shot_storage[\"player_id\"] == 29289) &\n",
    "             (shot_storage[\"tournament_id\"] == '505') &\n",
    "             (shot_storage[\"year\"] == '2014') &\n",
    "             (shot_storage[\"hole\"] == 1) &\n",
    "             (shot_storage[\"round\"] == 1)\n",
    "            ][[\"n\", 'x', 'y', 'z', 'club', 'shotText']]"
   ]
  },
  {
   "cell_type": "code",
   "execution_count": null,
   "metadata": {},
   "outputs": [],
   "source": [
    "distance = math.sqrt((x1 - x2) ** 2 + (y1 - y2) ** 2 + (z1 - z2) ** 2)"
   ]
  }
 ],
 "metadata": {
  "kernelspec": {
   "display_name": "Python 3",
   "language": "python",
   "name": "python3"
  },
  "language_info": {
   "codemirror_mode": {
    "name": "ipython",
    "version": 3
   },
   "file_extension": ".py",
   "mimetype": "text/x-python",
   "name": "python",
   "nbconvert_exporter": "python",
   "pygments_lexer": "ipython3",
   "version": "3.7.5"
  }
 },
 "nbformat": 4,
 "nbformat_minor": 2
}
